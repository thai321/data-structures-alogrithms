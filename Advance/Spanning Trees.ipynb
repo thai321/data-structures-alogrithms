{
 "cells": [
  {
   "cell_type": "markdown",
   "metadata": {},
   "source": [
    "## Spanning Trees\n",
    "### Disjoint Sets\n",
    "- Also know as union-find data structures\n",
    "- Data structure to keep track of a set of elements partitioned into a number of disjoint (non everlapping) subsets\n",
    "- Three main operations: **union** and **find** and **makeSet**\n",
    "- Disjoint sets can be represented with the help of linked lists but usually we implment it as a tree like structure\n",
    "- In Kruskal algorithm it will be useful: with disjoint sets we can decide in approximately O(1) time whether two vertices are in the same set or not"
   ]
  },
  {
   "cell_type": "markdown",
   "metadata": {},
   "source": [
    "### Make Set\n",
    "```js\n",
    "function makeSet(x)\n",
    "    x.parent = x\n",
    "```\n",
    "- So the make sets operation is quite easy to implement. ~ we set the parent of the given node to the itself\n",
    "- Basically we create a distinct set to all the items/nodes\n",
    "\n",
    "### find\n",
    "```js\n",
    "function find(x)\n",
    "    if x.parent == x\n",
    "        return x\n",
    "    else\n",
    "        return find(x.parent)\n",
    "```\n",
    "\n",
    "- Several items can belong to the same set -> we usually represent the set with one of its items \"representative of the set\"\n",
    "- When we search for an item with find() then the operation is going to return with the representative\n",
    "\n",
    "### Union\n",
    "```js\n",
    "function union(x,y)\n",
    "    xRoot = find(x)\n",
    "    yRoot = find(y)\n",
    "    \n",
    "    xRoot.parent = yRoot\n",
    "```\n",
    "- The union operation is merge two disjoint sets togethere by connecting them according tot he representatives\n",
    "- Problems: this tree like structure can become unbalanced\n",
    "    - 1) Union by rank -> always attach the smaller tree to the root of the larger one. The tree will become more balanced: faster!!!\n",
    "    - 2) Path compression -> flattening the structure of the tree. We set every visited node to be connected to the root directly !!!"
   ]
  },
  {
   "cell_type": "markdown",
   "metadata": {},
   "source": [
    "### Applications\n",
    "- It is used mostly in Kruskal-algorithm implementation\n",
    "- We have to check whether adding a given edge to the MST would form a cycle or not\n",
    "- For checking this -> union-find data structure is extremely helpful\n",
    "- We can check whether a cycle is present -> in asymtotically O(1) constant time complexity!!!"
   ]
  },
  {
   "cell_type": "markdown",
   "metadata": {},
   "source": [
    "### Spanning trees\n",
    "- A spanning tree of an undirected **G** graph is a subgraph that includes all the vertices of **G**\n",
    "- In general, a tree may have several spanning trees\n",
    "- We can assign a weight to each edge\n",
    "- A minimum spanning tree is then a spanning tree with wight less than or equal to the weight of every other spanning tree\n",
    "- Has lots of applications: in big data analysis, clustering algorithms, finding minimum cost for a telecommunications company laying cable to a new neighborhhod\n",
    "- Standard algorithms: Prim's-Jarnik, Kruskal -> greedy algorithms"
   ]
  },
  {
   "cell_type": "markdown",
   "metadata": {},
   "source": [
    "## Kruskal-algorithm\n",
    "- We sort the edges according to ehir edge weights\n",
    "- It can be done in **O(NlogN)** with mergesort or quicksort\n",
    "- Union find data structure: **disjoint set**\n",
    "- We start start adding edges to the MST and we want to make sure there will be no cycles in the spanning tree. It can be done in **O(LogV)** with the help of union find data structure\n",
    "- We could use a heap instead sorting the edges in the beginning but the running time would be the same. So sometimes Kruskal's algorithm is implemented with priority queues\n",
    "- Worst case running time: **O(E*logE)**, so we can use it for huge graphs too\n",
    "- If the edges are sorted: the algorithm will be quasi-linear\n",
    "- If the edges are sorted: the algorithm will be quasi-linear\n",
    "- If we multiply the weights with a constant or add a constant to the edge weights: the result will be the same"
   ]
  },
  {
   "cell_type": "code",
   "execution_count": 20,
   "metadata": {
    "collapsed": true
   },
   "outputs": [],
   "source": [
    "class Vertex(object):\n",
    "  def __init__(self, name):\n",
    "    self.name = name;\n",
    "    self.node = None;\n",
    "    \n",
    "class Node(object):\n",
    "  def __init__(self, height, nodeId, parentNode):\n",
    "    self.height = height;\n",
    "    self.nodeId = nodeId;\n",
    "    self.parentNode = parentNode;\n",
    "    \n",
    "class Edge(object):\n",
    "  def __init__(self, weight, startVertex, targetVertex):\n",
    "    self.weight = weight\n",
    "    self.startVertex = startVertex;\n",
    "    self.targetVertex = targetVertex;\n",
    "    \n",
    "  def __cmp__(self, otherEdge):\n",
    "    return self.cmp(self.weight, otherEdge.weight);\n",
    "  \n",
    "  def __lt__(self, other):\n",
    "    selfPriority = self.weight;\n",
    "    otherPriority = other.weight;\n",
    "    return selfPriority < otherPriority;\n",
    "  \n",
    "  "
   ]
  },
  {
   "cell_type": "code",
   "execution_count": 21,
   "metadata": {},
   "outputs": [],
   "source": [
    "class DisjointSet(object):\n",
    "  def __init__(self, vertexList):\n",
    "    self.vertexList = vertexList;\n",
    "    self.rootNodes = [];\n",
    "    self.nodeCount = 0;\n",
    "    self.setCount = 0;\n",
    "    self.makeSets(vertexList);\n",
    "  \n",
    "  def find(self, node):\n",
    "    currentNode = node;\n",
    "    print(node);\n",
    "    \n",
    "    while currentNode.parentNode is not None:\n",
    "      currentNode = currentNode.parentNode;\n",
    "\n",
    "    root = currentNode;\n",
    "    currentNode = node;\n",
    "    \n",
    "    while currentNode is not root:\n",
    "      temp = currentNode.parentNode;\n",
    "      currentNode.parentNode = root;\n",
    "      currentNode = temp;\n",
    "\n",
    "    return root.nodeId\n",
    "  \n",
    "  def merge(self, node1, node2):\n",
    "    index1 = self.find(node1);\n",
    "    index2 = self.find(node2);\n",
    "    \n",
    "    if index1 == index2:\n",
    "      return; # they are in the same set!!!\n",
    "    \n",
    "    root1 = self.rootNodes[index1];\n",
    "    root2 = self.rootNodes[index2];\n",
    "    \n",
    "    if root1.height < root2.height:\n",
    "      root1.parentNode = root2;\n",
    "    elif root1.height > root2.height:\n",
    "      root2.parentNode = root1;\n",
    "    else:\n",
    "      root2.parentNode = root1;\n",
    "      root1.height = root1.height + 1;\n",
    "    \n",
    "  def makeSets(self, vertexList):\n",
    "    for v in vertexList:\n",
    "      self.makeSet(v);\n",
    "      \n",
    "  def makeSet(self, vertex):\n",
    "    node = Node(0, len(self.rootNodes), None);\n",
    "    vertex.parentNode = node;\n",
    "    self.rootNodes.append(node);\n",
    "    self.setCount = self.setCount + 1;\n",
    "    self.nodeCount = self.nodeCount + 1;"
   ]
  },
  {
   "cell_type": "code",
   "execution_count": 22,
   "metadata": {
    "collapsed": true
   },
   "outputs": [],
   "source": [
    "class KruskalAlgorithm(object):\n",
    "  \n",
    "  def spanningTree(self, vertexList, edgeList):\n",
    "    disjointSet = DisjointSet(vertexList);\n",
    "    spanningTree = [];\n",
    "    \n",
    "    edgeList.sort();\n",
    "    \n",
    "    \n",
    "    for edge in edgeList:\n",
    "      u = edge.startVertex;\n",
    "      v = edge.targetVertex;\n",
    "      \n",
    "      if disjointSet.find(u.node) is not disjointSet.find(v.node):\n",
    "        spanningTree.append(edge);\n",
    "        disjointSet.merge(u.node, v.node);\n",
    "    \n",
    "    for edge in spanningTree:\n",
    "      print(edge.startVertex.name, \" - \", edge.targetVertex.name);"
   ]
  },
  {
   "cell_type": "code",
   "execution_count": 23,
   "metadata": {
    "collapsed": true
   },
   "outputs": [
    {
     "name": "stdout",
     "output_type": "stream",
     "text": [
      "None\n"
     ]
    },
    {
     "ename": "AttributeError",
     "evalue": "'NoneType' object has no attribute 'parentNode'",
     "output_type": "error",
     "traceback": [
      "\u001b[0;31m---------------------------------------------------------------------------\u001b[0m",
      "\u001b[0;31mAttributeError\u001b[0m                            Traceback (most recent call last)",
      "\u001b[0;32m<ipython-input-23-5bb47987b6b8>\u001b[0m in \u001b[0;36m<module>\u001b[0;34m()\u001b[0m\n\u001b[1;32m     43\u001b[0m \u001b[0;34m\u001b[0m\u001b[0m\n\u001b[1;32m     44\u001b[0m \u001b[0malgorithm\u001b[0m \u001b[0;34m=\u001b[0m \u001b[0mKruskalAlgorithm\u001b[0m\u001b[0;34m(\u001b[0m\u001b[0;34m)\u001b[0m\u001b[0;34m;\u001b[0m\u001b[0;34m\u001b[0m\u001b[0m\n\u001b[0;32m---> 45\u001b[0;31m \u001b[0malgorithm\u001b[0m\u001b[0;34m.\u001b[0m\u001b[0mspanningTree\u001b[0m\u001b[0;34m(\u001b[0m\u001b[0mvertexList\u001b[0m\u001b[0;34m,\u001b[0m \u001b[0medgeList\u001b[0m\u001b[0;34m)\u001b[0m\u001b[0;34m;\u001b[0m\u001b[0;34m\u001b[0m\u001b[0m\n\u001b[0m",
      "\u001b[0;32m<ipython-input-22-88162a13eba6>\u001b[0m in \u001b[0;36mspanningTree\u001b[0;34m(self, vertexList, edgeList)\u001b[0m\n\u001b[1;32m     12\u001b[0m       \u001b[0mv\u001b[0m \u001b[0;34m=\u001b[0m \u001b[0medge\u001b[0m\u001b[0;34m.\u001b[0m\u001b[0mtargetVertex\u001b[0m\u001b[0;34m;\u001b[0m\u001b[0;34m\u001b[0m\u001b[0m\n\u001b[1;32m     13\u001b[0m \u001b[0;34m\u001b[0m\u001b[0m\n\u001b[0;32m---> 14\u001b[0;31m       \u001b[0;32mif\u001b[0m \u001b[0mdisjointSet\u001b[0m\u001b[0;34m.\u001b[0m\u001b[0mfind\u001b[0m\u001b[0;34m(\u001b[0m\u001b[0mu\u001b[0m\u001b[0;34m.\u001b[0m\u001b[0mnode\u001b[0m\u001b[0;34m)\u001b[0m \u001b[0;32mis\u001b[0m \u001b[0;32mnot\u001b[0m \u001b[0mdisjointSet\u001b[0m\u001b[0;34m.\u001b[0m\u001b[0mfind\u001b[0m\u001b[0;34m(\u001b[0m\u001b[0mv\u001b[0m\u001b[0;34m.\u001b[0m\u001b[0mnode\u001b[0m\u001b[0;34m)\u001b[0m\u001b[0;34m:\u001b[0m\u001b[0;34m\u001b[0m\u001b[0m\n\u001b[0m\u001b[1;32m     15\u001b[0m         \u001b[0mspanningTree\u001b[0m\u001b[0;34m.\u001b[0m\u001b[0mappend\u001b[0m\u001b[0;34m(\u001b[0m\u001b[0medge\u001b[0m\u001b[0;34m)\u001b[0m\u001b[0;34m;\u001b[0m\u001b[0;34m\u001b[0m\u001b[0m\n\u001b[1;32m     16\u001b[0m         \u001b[0mdisjointSet\u001b[0m\u001b[0;34m.\u001b[0m\u001b[0mmerge\u001b[0m\u001b[0;34m(\u001b[0m\u001b[0mu\u001b[0m\u001b[0;34m.\u001b[0m\u001b[0mnode\u001b[0m\u001b[0;34m,\u001b[0m \u001b[0mv\u001b[0m\u001b[0;34m.\u001b[0m\u001b[0mnode\u001b[0m\u001b[0;34m)\u001b[0m\u001b[0;34m;\u001b[0m\u001b[0;34m\u001b[0m\u001b[0m\n",
      "\u001b[0;32m<ipython-input-21-4dca8e6dac36>\u001b[0m in \u001b[0;36mfind\u001b[0;34m(self, node)\u001b[0m\n\u001b[1;32m     11\u001b[0m     \u001b[0mprint\u001b[0m\u001b[0;34m(\u001b[0m\u001b[0mnode\u001b[0m\u001b[0;34m)\u001b[0m\u001b[0;34m;\u001b[0m\u001b[0;34m\u001b[0m\u001b[0m\n\u001b[1;32m     12\u001b[0m \u001b[0;34m\u001b[0m\u001b[0m\n\u001b[0;32m---> 13\u001b[0;31m     \u001b[0;32mwhile\u001b[0m \u001b[0mcurrentNode\u001b[0m\u001b[0;34m.\u001b[0m\u001b[0mparentNode\u001b[0m \u001b[0;32mis\u001b[0m \u001b[0;32mnot\u001b[0m \u001b[0;32mNone\u001b[0m\u001b[0;34m:\u001b[0m\u001b[0;34m\u001b[0m\u001b[0m\n\u001b[0m\u001b[1;32m     14\u001b[0m       \u001b[0mcurrentNode\u001b[0m \u001b[0;34m=\u001b[0m \u001b[0mcurrentNode\u001b[0m\u001b[0;34m.\u001b[0m\u001b[0mparentNode\u001b[0m\u001b[0;34m;\u001b[0m\u001b[0;34m\u001b[0m\u001b[0m\n\u001b[1;32m     15\u001b[0m \u001b[0;34m\u001b[0m\u001b[0m\n",
      "\u001b[0;31mAttributeError\u001b[0m: 'NoneType' object has no attribute 'parentNode'"
     ]
    }
   ],
   "source": [
    "vertex1 = Vertex(\"a\");\n",
    "vertex2 = Vertex(\"b\");\n",
    "vertex3 = Vertex(\"c\");\n",
    "vertex4 = Vertex(\"d\");\n",
    "vertex5 = Vertex(\"e\");\n",
    "vertex6 = Vertex(\"f\");\n",
    "vertex7 = Vertex(\"g\");\n",
    "\n",
    "edge1 = Edge(2,vertex1, vertex2)\n",
    "edge2 = Edge(6,vertex1, vertex3)\n",
    "edge3 = Edge(5,vertex1, vertex5)\n",
    "edge4 = Edge(10,vertex1, vertex6)\n",
    "edge5 = Edge(3,vertex2, vertex4)\n",
    "edge6 = Edge(3,vertex2, vertex5)\n",
    "edge7 = Edge(1,vertex3, vertex4)\n",
    "edge8 = Edge(2,vertex3, vertex6)\n",
    "edge9 = Edge(4,vertex4, vertex5)\n",
    "edge10 = Edge(5,vertex4, vertex7)\n",
    "edge11 = Edge(5,vertex6, vertex7)\n",
    "\n",
    "vertexList = [];\n",
    "vertexList.append(vertex1);\n",
    "vertexList.append(vertex2);\n",
    "vertexList.append(vertex3);\n",
    "vertexList.append(vertex4);\n",
    "vertexList.append(vertex5);\n",
    "vertexList.append(vertex6);\n",
    "vertexList.append(vertex7);\n",
    "\n",
    "\n",
    "edgeList = [];\n",
    "edgeList.append(edge1);\n",
    "edgeList.append(edge2);\n",
    "edgeList.append(edge3);\n",
    "edgeList.append(edge4);\n",
    "edgeList.append(edge5);\n",
    "edgeList.append(edge6);\n",
    "edgeList.append(edge7);\n",
    "edgeList.append(edge8);\n",
    "edgeList.append(edge9);\n",
    "edgeList.append(edge10);\n",
    "edgeList.append(edge11);\n",
    "\n",
    "algorithm = KruskalAlgorithm();\n",
    "algorithm.spanningTree(vertexList, edgeList);"
   ]
  },
  {
   "cell_type": "code",
   "execution_count": null,
   "metadata": {
    "collapsed": true
   },
   "outputs": [],
   "source": []
  },
  {
   "cell_type": "code",
   "execution_count": null,
   "metadata": {
    "collapsed": true
   },
   "outputs": [],
   "source": []
  },
  {
   "cell_type": "markdown",
   "metadata": {},
   "source": [
    "## Prim-Jarnik algorithm\n",
    "- In Kruskal implementation we build the spanning tree separately, adding the smallest edge to the spanning tree if there is no cycle\n",
    "- Prims algorithm we build the spanning tree from a given vertex, adding the samllest edge to the MST\n",
    "- Kruskal -> edge based\n",
    "- Prims -> vertex based!!!\n",
    "- There are two implementations: lazy and eager\n",
    "- Lazy implementation: add the new neighbour edges to the heap without deleting its content\n",
    "- Eager implementation: we keep updating the heap if the distance from a vertex to the MST has changed\n",
    "- Average running time: **O(E*logE)** but we need additional memory space **O(E)**\n",
    "- Worst case: **O(E*logV)**"
   ]
  },
  {
   "cell_type": "code",
   "execution_count": null,
   "metadata": {
    "collapsed": true
   },
   "outputs": [],
   "source": []
  }
 ],
 "metadata": {
  "kernelspec": {
   "display_name": "Python 3",
   "language": "python",
   "name": "python3"
  },
  "language_info": {
   "codemirror_mode": {
    "name": "ipython",
    "version": 3
   },
   "file_extension": ".py",
   "mimetype": "text/x-python",
   "name": "python",
   "nbconvert_exporter": "python",
   "pygments_lexer": "ipython3",
   "version": "3.6.1"
  }
 },
 "nbformat": 4,
 "nbformat_minor": 2
}
