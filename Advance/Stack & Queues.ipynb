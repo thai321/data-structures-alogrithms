{
 "cells": [
  {
   "cell_type": "markdown",
   "metadata": {},
   "source": [
    "### Stack memory\n",
    "- limited in size\n",
    "- fast access\n",
    "- local variables\n",
    "- space is managed efficiently by CPU\n",
    "- Variables cannot be resized\n",
    "\n",
    "### Heap memory\n",
    "- no size limites\n",
    "- slow access\n",
    "- objects\n",
    "- memory may be fragmented\n",
    "- Variables can be resized // realloc()"
   ]
  },
  {
   "cell_type": "code",
   "execution_count": 2,
   "metadata": {
    "collapsed": true
   },
   "outputs": [],
   "source": [
    "class Stack:\n",
    "  \n",
    "  def __init__(self):\n",
    "    self.stack = []\n",
    "    \n",
    "  def isEmpty(self):\n",
    "    return self.stack == []\n",
    "  \n",
    "  def push(self, data):\n",
    "    self.stack.append(data);\n",
    "  \n",
    "  def pop(self):\n",
    "    data = self.stack[-1];\n",
    "    del self.stack[-1]\n",
    "    return data\n",
    "  \n",
    "  def peek(self):\n",
    "    return self.stack[-1];\n",
    "  \n",
    "  def sizeStack(self):\n",
    "    return len(self.stack)"
   ]
  },
  {
   "cell_type": "code",
   "execution_count": 4,
   "metadata": {},
   "outputs": [
    {
     "name": "stdout",
     "output_type": "stream",
     "text": [
      "3\n",
      "Popped:  3\n",
      "Popped:  2\n",
      "1\n",
      "Peek:  1\n",
      "Size:  1\n"
     ]
    }
   ],
   "source": [
    "stack = Stack()\n",
    "stack.push(1)\n",
    "stack.push(2)\n",
    "stack.push(3)\n",
    "print(stack.sizeStack())\n",
    "print(\"Popped: \", stack.pop())\n",
    "print(\"Popped: \", stack.pop())\n",
    "print(stack.sizeStack())\n",
    "print(\"Peek: \", stack.peek())\n",
    "print(\"Size: \", stack.sizeStack())"
   ]
  },
  {
   "cell_type": "code",
   "execution_count": null,
   "metadata": {
    "collapsed": true
   },
   "outputs": [],
   "source": []
  },
  {
   "cell_type": "code",
   "execution_count": 7,
   "metadata": {
    "collapsed": true
   },
   "outputs": [],
   "source": [
    "class Queue:\n",
    "  \n",
    "  def __init__(self):\n",
    "    self.queue = []\n",
    "\n",
    "  def isEmpty(self):\n",
    "    return self.queue == []\n",
    "  \n",
    "  def enqueue(self, data):\n",
    "    self.queue.append(data)\n",
    "  \n",
    "  def dequeue(self):\n",
    "    data = self.queue[0]\n",
    "    del self.queue[0]\n",
    "    return data\n",
    "  \n",
    "  def peek():\n",
    "    return self.queue\n",
    "  \n",
    "  def sizeQueue(self):\n",
    "    return len(self.queue)"
   ]
  },
  {
   "cell_type": "code",
   "execution_count": 8,
   "metadata": {},
   "outputs": [
    {
     "name": "stdout",
     "output_type": "stream",
     "text": [
      "3\n",
      "Dequeue:  10\n",
      "Dequeue:  20\n",
      "1\n"
     ]
    }
   ],
   "source": [
    "queue = Queue()\n",
    "queue.enqueue(10)\n",
    "queue.enqueue(20)\n",
    "queue.enqueue(30)\n",
    "print(queue.sizeQueue())\n",
    "print(\"Dequeue: \", queue.dequeue())\n",
    "print(\"Dequeue: \", queue.dequeue())\n",
    "print(queue.sizeQueue())"
   ]
  },
  {
   "cell_type": "code",
   "execution_count": null,
   "metadata": {
    "collapsed": true
   },
   "outputs": [],
   "source": []
  }
 ],
 "metadata": {
  "kernelspec": {
   "display_name": "Python 3",
   "language": "python",
   "name": "python3"
  },
  "language_info": {
   "codemirror_mode": {
    "name": "ipython",
    "version": 3
   },
   "file_extension": ".py",
   "mimetype": "text/x-python",
   "name": "python",
   "nbconvert_exporter": "python",
   "pygments_lexer": "ipython3",
   "version": "3.6.1"
  }
 },
 "nbformat": 4,
 "nbformat_minor": 2
}
