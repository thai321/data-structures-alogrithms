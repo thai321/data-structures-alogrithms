{
 "cells": [
  {
   "cell_type": "markdown",
   "metadata": {},
   "source": [
    "## BFS\n",
    "- O(V + E)\n",
    "\n",
    "```python\n",
    "def bfs (vertex):\n",
    "    Queue queue\n",
    "    vertex set visited true\n",
    "    queue.enqueue(vertex)\n",
    "    \n",
    "    while queue not empty:\n",
    "        actual = queue.dequeue()\n",
    "        \n",
    "        for v in actual neighbours:\n",
    "            if v is not visited:\n",
    "                v set visited true\n",
    "                queue.enqueue(v)\n",
    "            \n",
    "```\n",
    "\n"
   ]
  },
  {
   "cell_type": "code",
   "execution_count": 9,
   "metadata": {
    "collapsed": true
   },
   "outputs": [],
   "source": [
    "class Node(object):\n",
    "  \n",
    "  def __init__(self, name):\n",
    "      self.name = name;\n",
    "      self.adjacencyList = [];\n",
    "      self.visited = False;\n",
    "      self.predecessor = None;\n",
    "      \n",
    "class BreadthFirstSearch(object):\n",
    "  \n",
    "  def bfs(self, startNode):\n",
    "    \n",
    "    queue = [];\n",
    "    queue.append(startNode)\n",
    "    startNode.visited = True;\n",
    "    \n",
    "    while queue:\n",
    "      \n",
    "      actualNode = queue.pop(0);\n",
    "      print(\"%s \" % actualNode.name)\n",
    "      \n",
    "      for node in actualNode.adjacencyList:\n",
    "        if not node.visited:\n",
    "          node.visited = True\n",
    "          queue.append(node);\n",
    "      "
   ]
  },
  {
   "cell_type": "code",
   "execution_count": 10,
   "metadata": {},
   "outputs": [
    {
     "name": "stdout",
     "output_type": "stream",
     "text": [
      "A \n",
      "B \n",
      "C \n",
      "D \n",
      "E \n"
     ]
    }
   ],
   "source": [
    "node1 = Node(\"A\");\n",
    "node2 = Node(\"B\");\n",
    "node3 = Node(\"C\");\n",
    "node4 = Node(\"D\");\n",
    "node5 = Node(\"E\");\n",
    "\n",
    "node1.adjacencyList.append(node2);\n",
    "node1.adjacencyList.append(node3);\n",
    "node2.adjacencyList.append(node4);\n",
    "node4.adjacencyList.append(node5);\n",
    "\n",
    "bfs = BreadthFirstSearch();\n",
    "bfs.bfs(node1);"
   ]
  },
  {
   "cell_type": "code",
   "execution_count": null,
   "metadata": {
    "collapsed": true
   },
   "outputs": [],
   "source": []
  },
  {
   "cell_type": "code",
   "execution_count": null,
   "metadata": {
    "collapsed": true
   },
   "outputs": [],
   "source": []
  },
  {
   "cell_type": "markdown",
   "metadata": {},
   "source": [
    "## DFS\n",
    "\n",
    "```python\n",
    "def dfs(vertex):\n",
    "    Stack stack\n",
    "    vertex set visited True\n",
    "    stack.push(vertex)\n",
    "    \n",
    "    while stack not empty:\n",
    "        actual = stack.pop()\n",
    "        \n",
    "        for v in actual neighours:\n",
    "            if v is not visited:\n",
    "                v set visited True\n",
    "                stack.push(v)\n",
    "                \n",
    "                \n",
    "def dfs(vertex):\n",
    "    vertex set visisted True\n",
    "    print vertex\n",
    "    \n",
    "    for v in vertex neighbours:\n",
    "        if v is not visited:\n",
    "            dfs(v)\n",
    "```"
   ]
  },
  {
   "cell_type": "code",
   "execution_count": 14,
   "metadata": {
    "collapsed": true
   },
   "outputs": [],
   "source": [
    "class Node(object):\n",
    "  def __init__(self, name):\n",
    "    self.name = name;\n",
    "    self.adjacenciesList = [];\n",
    "    self.visited = False;\n",
    "    self.predecessor = None;\n",
    "    \n",
    "class DepthFirstSearch(object):\n",
    "  \n",
    "  def dfs(self, node):\n",
    "    \n",
    "    node.visited = True;\n",
    "    print(\"%s\" % node.name);\n",
    "    \n",
    "    for n in node.adjacenciesList:\n",
    "      if not n.visited:\n",
    "        self.dfs(n)\n",
    "    "
   ]
  },
  {
   "cell_type": "code",
   "execution_count": 16,
   "metadata": {},
   "outputs": [
    {
     "name": "stdout",
     "output_type": "stream",
     "text": [
      "A\n",
      "B\n",
      "D\n",
      "E\n",
      "C\n"
     ]
    }
   ],
   "source": [
    "node1 = Node(\"A\");\n",
    "node2 = Node(\"B\");\n",
    "node3 = Node(\"C\");\n",
    "node4 = Node(\"D\");\n",
    "node5 = Node(\"E\");\n",
    "\n",
    "node1.adjacenciesList.append(node2);\n",
    "node1.adjacenciesList.append(node3);\n",
    "node2.adjacenciesList.append(node4);\n",
    "node4.adjacenciesList.append(node5);\n",
    "\n",
    "dfs = DepthFirstSearch();\n",
    "dfs.dfs(node1);"
   ]
  },
  {
   "cell_type": "code",
   "execution_count": null,
   "metadata": {
    "collapsed": true
   },
   "outputs": [],
   "source": []
  },
  {
   "cell_type": "markdown",
   "metadata": {},
   "source": [
    "## Memory Management\n",
    "- BFS:\n",
    "    - ***Space complexity: O(N)***. Because at the leaves -> if we have N items stored in the balanced tree ~ then there will be N/2 leave nodes\n",
    "    - So we have to store O(N) items if we want to traverse a tree that contains N items!!!\n",
    "    \n",
    "- DFS:\n",
    "    - Here we have to backtrack (pop item from stack): so basically we just have to store as many items n the stack as the height of th tree -> which is log(N)!!!\n",
    "    - ~ so the memory complexity will be O(logN)\n",
    "    \n",
    "- That's why depth-first search is preferred most of the times. There may be some situations where BFS is better ~ artificial intelligence, robot movements"
   ]
  },
  {
   "cell_type": "code",
   "execution_count": null,
   "metadata": {
    "collapsed": true
   },
   "outputs": [],
   "source": []
  }
 ],
 "metadata": {
  "kernelspec": {
   "display_name": "Python 3",
   "language": "python",
   "name": "python3"
  },
  "language_info": {
   "codemirror_mode": {
    "name": "ipython",
    "version": 3
   },
   "file_extension": ".py",
   "mimetype": "text/x-python",
   "name": "python",
   "nbconvert_exporter": "python",
   "pygments_lexer": "ipython3",
   "version": "3.6.1"
  }
 },
 "nbformat": 4,
 "nbformat_minor": 2
}
