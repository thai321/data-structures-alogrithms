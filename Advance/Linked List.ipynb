{
 "cells": [
  {
   "cell_type": "code",
   "execution_count": 26,
   "metadata": {
    "collapsed": true
   },
   "outputs": [],
   "source": [
    "class Node(object):\n",
    "  \n",
    "  def __init__(self, data):\n",
    "    self.data = data;\n",
    "    self.nextNode = None;\n",
    "\n",
    "class LinkedList(object):\n",
    "  \n",
    "  def __init__(self):\n",
    "    self.head = None;\n",
    "    self.size = 0;\n",
    "  \n",
    "  # O(1)\n",
    "  def insertStart(self, data):\n",
    "    self.size = self.size + 1;\n",
    "    newNode = Node(data);\n",
    "    \n",
    "    if not self.head:\n",
    "      self.head = newNode;\n",
    "    else:\n",
    "      newNode.nextNode = self.head;\n",
    "      self.head = newNode;\n",
    "      \n",
    "\n",
    "  def remove(self, data):\n",
    "    if self.head is None:\n",
    "      return;\n",
    "    \n",
    "    self.size = self.size - 1;\n",
    "    currentNode = self.head;\n",
    "    previousNode = None;\n",
    "    \n",
    "    while(currentNode.data != data):\n",
    "      previousNode = currentNode;\n",
    "      currentNode = currentNode.nextNode;\n",
    "    \n",
    "    if previousNode is None:\n",
    "      self.head = currentNode.nextNode;\n",
    "    else:\n",
    "        previousNode.nextNode = currentNode.nextNode;\n",
    "  \n",
    "  # O(1)\n",
    "  def size1(self):\n",
    "    return self.size;\n",
    "  \n",
    "  # O(N), not good\n",
    "  def size2(self):\n",
    "    actualNode = self.head;\n",
    "    size = 0;\n",
    "    \n",
    "    while actualNode is not None:\n",
    "      size += 1;\n",
    "      actualNode = actualNode.nextNode;\n",
    "    return size;\n",
    "  \n",
    "  def insertEnd(self,data):\n",
    "    self.size = self.size + 1;\n",
    "    newNode = Node(data);\n",
    "    actualNode = seld.head;\n",
    "    \n",
    "    while actualNode.nextNode is not None:\n",
    "      actualNode = actualNode.next;\n",
    "    \n",
    "    actualNode.nextNode = newNode;\n",
    "\n",
    "  \n",
    "  def traverseList(self):\n",
    "    actualNode = self.head;\n",
    "    \n",
    "    while actualNode is not None:\n",
    "      print(\"%d \" % actualNode.data);\n",
    "      actualNode = actualNode.nextNode;\n",
    "    "
   ]
  },
  {
   "cell_type": "code",
   "execution_count": 27,
   "metadata": {},
   "outputs": [],
   "source": [
    "linkedlist = LinkedList();\n",
    "\n",
    "linkedlist.insertStart(12);\n",
    "linkedlist.insertStart(122);\n",
    "linkedlist.insertStart(3);\n",
    "linkedlist.insertStart(31);"
   ]
  },
  {
   "cell_type": "code",
   "execution_count": 28,
   "metadata": {},
   "outputs": [
    {
     "name": "stdout",
     "output_type": "stream",
     "text": [
      "31 \n",
      "3 \n",
      "122 \n",
      "12 \n"
     ]
    }
   ],
   "source": [
    "linkedlist.traverseList();"
   ]
  },
  {
   "cell_type": "code",
   "execution_count": 29,
   "metadata": {},
   "outputs": [
    {
     "name": "stdout",
     "output_type": "stream",
     "text": [
      "4\n"
     ]
    }
   ],
   "source": [
    "print(linkedlist.size1());"
   ]
  },
  {
   "cell_type": "code",
   "execution_count": 30,
   "metadata": {
    "collapsed": true
   },
   "outputs": [],
   "source": [
    "linkedlist.remove(31);\n",
    "linkedlist.remove(12);\n",
    "linkedlist.remove(3)"
   ]
  },
  {
   "cell_type": "code",
   "execution_count": 32,
   "metadata": {},
   "outputs": [
    {
     "name": "stdout",
     "output_type": "stream",
     "text": [
      "122 \n"
     ]
    }
   ],
   "source": [
    "linkedlist.traverseList();"
   ]
  },
  {
   "cell_type": "code",
   "execution_count": 33,
   "metadata": {},
   "outputs": [
    {
     "name": "stdout",
     "output_type": "stream",
     "text": [
      "1\n"
     ]
    }
   ],
   "source": [
    "print(linkedlist.size1());"
   ]
  },
  {
   "cell_type": "code",
   "execution_count": null,
   "metadata": {
    "collapsed": true
   },
   "outputs": [],
   "source": []
  }
 ],
 "metadata": {
  "kernelspec": {
   "display_name": "Python 3",
   "language": "python",
   "name": "python3"
  },
  "language_info": {
   "codemirror_mode": {
    "name": "ipython",
    "version": 3
   },
   "file_extension": ".py",
   "mimetype": "text/x-python",
   "name": "python",
   "nbconvert_exporter": "python",
   "pygments_lexer": "ipython3",
   "version": "3.6.1"
  }
 },
 "nbformat": 4,
 "nbformat_minor": 2
}
