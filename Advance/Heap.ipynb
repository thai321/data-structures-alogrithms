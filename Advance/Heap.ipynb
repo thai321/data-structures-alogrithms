{
 "cells": [
  {
   "cell_type": "markdown",
   "metadata": {},
   "source": [
    "## Heap\n",
    "- It is basically a binary tree\n",
    "- Tow main binary heap types: min and max heap\n",
    "- In a max heap, the keys of parent nodes are always greater than or equal to those of the children -> the highest key is in the root node.\n",
    "- In a min heap, the keys of parent nodes are less than or equals to those of the children -> the lowest key is in the root node\n",
    "- It is complete: it cannot be unbalanced !!! we insert every new item to the next available place\n",
    "- Applications: Dijkstra's algorithm, Prims algorithm\n",
    "- The heap is one maximally efficient implementation of a priority queue abstract data type\n",
    "- It has nothing to do with the pool of memory from which dynamically allocated memory is allocated."
   ]
  },
  {
   "cell_type": "markdown",
   "metadata": {},
   "source": [
    "## Heap properties\n",
    "1) \n",
    "Complate -> we construct the heap from left to right across each row // of course the last row may not be completely full. There is no missing node from left to right in a layer\n",
    "\n",
    "2) In a binary heap every node can have 2 children, left child and right child\n",
    "\n",
    "3) \n",
    "- Min heap -> the parent is always smaller than the values of the children\n",
    "- Max heap -> the parent is always greater\n",
    "- So: the root node will the smallest/greatest value in the heap. // O(1) access !!!\n",
    "\n",
    "- It is an **O(n)** process to construct a heap\n",
    "- W ehave to reconstruct it if the heap properties are viloated but it takes **O(logN)** time --> O(N) + O(logN) - O(N)\n",
    "- inserting an item to the heap is just adding the data to the array with incremented index!!! **O(1)**"
   ]
  },
  {
   "cell_type": "markdown",
   "metadata": {},
   "source": [
    "## Deleting an item\n",
    "- We just get rid of the item we want to delete. But there will be a hold in the tree. So we put the last item there, and make sure the heap properties are valid // with reconstructions!!!\n",
    "- So: we have managed to get rid of the root node and to make some reconstructions in order to end up with a valid heap again!!!\n",
    "- Operation: deleting the root node **O(1)** + reconstruction **O(logN) = O(logN)**\n",
    "- Operation: deleting the arbitrary node **O(N)** + reconstruction **O(logN) = O(N)**!!!"
   ]
  },
  {
   "cell_type": "markdown",
   "metadata": {},
   "source": [
    "## Heapsort\n",
    "- Comparison-based sorting algorithm\n",
    "- Use Heap data structure rather than a linear-time search to find the maximum\n",
    "- A bit slower in practice on most machines than a well-implemented quicksort, it has the advantage of a more favorable worst-case **O(N logN)** runtime\n",
    "- It is an in-place algorithm, but it is not a stable sort\n",
    "- **Does NOT NEED ADDITIONAL MEMORY**\n",
    "- Problem: first we have to construct the heap itself from the numbers we want to sort -> **O(N)** time complexity!!!"
   ]
  },
  {
   "cell_type": "markdown",
   "metadata": {},
   "source": [
    "## Running time\n",
    "- Running time: we have to consider **N** items + have to make some swappings if necessary\n",
    " **O(N*logN)**\n",
    "- Memory complexity: we have **N** items we want to store in the heap. We have to allocate memory for an array with size **N** --> **O(N)** memory complexity\n",
    "\n",
    "- Find the minimum /maximum: **O(1)** very fast. Because in a heap the highest priority item is at the root node, it is easy heapArray[0] will be the item we are looking for\n",
    "- Insert new items: we can insert at the next avilable place, so increment the array index and insert it -> **O(1)** fast. But we have to make sure the heap propperties are met.. it may take **O(logN)** time\n",
    "- **O(log_2 N)** why? bacause a node has at most **log_2 N** parents so at most **Log_2 N** swaps are needed\n",
    "- Remove item: We ususlay remove the root node. Removing it is quite fast: just delete it in **O(1)** time. But we have to make sure we met the heap properties **O(logN)** time to reconstruct the heap!!!\n",
    "\n"
   ]
  },
  {
   "cell_type": "code",
   "execution_count": 13,
   "metadata": {
    "collapsed": true
   },
   "outputs": [],
   "source": [
    "class Heap(object):\n",
    "  HEAP_SIZE = 10\n",
    "  \n",
    "  def __init__(self):\n",
    "    self.heap = [0]* Heap.HEAP_SIZE\n",
    "    self.currentPosition = -1\n",
    "    \n",
    "  def insert(self, item):\n",
    "    if self.isFull():\n",
    "      print(\"Heap is full...\")\n",
    "      return\n",
    "    \n",
    "    self.currentPosition = self.currentPosition + 1\n",
    "    self.heap[self.currentPosition] = item\n",
    "    self.fixUp(self.currentPosition)\n",
    "    \n",
    "  def fixUp(self, index):\n",
    "    parentIndex = int((index - 1)/2)\n",
    "    \n",
    "    while parentIndex >= 0 and self.heap[parentIndex] < self.heap[index]:\n",
    "      temp = self.heap[index]\n",
    "      self.heap[index] = self.heap[parentIndex]\n",
    "      self.heap[parentIndex] = temp;\n",
    "      parentIndex = (int)((index-1)/2)\n",
    "      \n",
    "  def heapsort(self):\n",
    "    \n",
    "    for i in range(0, self.currentPosition + 1):\n",
    "      temp = self.heap[0]\n",
    "      print(\"%d \" % temp)\n",
    "      self.heap[0] = self.heap[self.currentPosition - i]\n",
    "      self.heap[self.currentPosition - i] = temp\n",
    "      self.fixDown(0, self.currentPosition - i - 1)\n",
    "      \n",
    "  def fixDown(self, index, upto):\n",
    "    \n",
    "    while index <= upto:\n",
    "      leftChild = 2*index  + 1\n",
    "      rightChild = 2*index + 2\n",
    "      \n",
    "      if leftChild < upto:\n",
    "        childToSwap = None\n",
    "        \n",
    "        if rightChild > upto:\n",
    "          childToSwap = leftChild\n",
    "        else:\n",
    "          if self.heap[leftChild] > self.heap[rightChild]:\n",
    "            childToSway = leftChild\n",
    "          else:\n",
    "            childToSway = rightChild\n",
    "        \n",
    "        if self.heap[index] < self.heap[childToSwap]:\n",
    "          temp = self.heap[index]\n",
    "          self.heap[index] = self.heap[childToSway]\n",
    "          self.heap[childToSwap] = temp\n",
    "        else:\n",
    "          break\n",
    "        \n",
    "        index = childToSwap\n",
    "        \n",
    "      else:\n",
    "        break\n",
    "          \n",
    "  \n",
    "  def isFull(self):\n",
    "    if self.currentPosition == Heap.HEAP_SIZE:\n",
    "      return True\n",
    "    else:\n",
    "      return False"
   ]
  },
  {
   "cell_type": "code",
   "execution_count": 14,
   "metadata": {},
   "outputs": [
    {
     "name": "stdout",
     "output_type": "stream",
     "text": [
      "10 \n"
     ]
    },
    {
     "ename": "TypeError",
     "evalue": "list indices must be integers or slices, not NoneType",
     "output_type": "error",
     "traceback": [
      "\u001b[0;31m---------------------------------------------------------------------------\u001b[0m",
      "\u001b[0;31mTypeError\u001b[0m                                 Traceback (most recent call last)",
      "\u001b[0;32m<ipython-input-14-458ada994925>\u001b[0m in \u001b[0;36m<module>\u001b[0;34m()\u001b[0m\n\u001b[1;32m      5\u001b[0m \u001b[0mheap\u001b[0m\u001b[0;34m.\u001b[0m\u001b[0minsert\u001b[0m\u001b[0;34m(\u001b[0m\u001b[0;36m2\u001b[0m\u001b[0;34m)\u001b[0m\u001b[0;34m\u001b[0m\u001b[0m\n\u001b[1;32m      6\u001b[0m \u001b[0;34m\u001b[0m\u001b[0m\n\u001b[0;32m----> 7\u001b[0;31m \u001b[0mheap\u001b[0m\u001b[0;34m.\u001b[0m\u001b[0mheapsort\u001b[0m\u001b[0;34m(\u001b[0m\u001b[0;34m)\u001b[0m\u001b[0;34m\u001b[0m\u001b[0m\n\u001b[0m",
      "\u001b[0;32m<ipython-input-13-f70e9428940e>\u001b[0m in \u001b[0;36mheapsort\u001b[0;34m(self)\u001b[0m\n\u001b[1;32m     31\u001b[0m       \u001b[0mself\u001b[0m\u001b[0;34m.\u001b[0m\u001b[0mheap\u001b[0m\u001b[0;34m[\u001b[0m\u001b[0;36m0\u001b[0m\u001b[0;34m]\u001b[0m \u001b[0;34m=\u001b[0m \u001b[0mself\u001b[0m\u001b[0;34m.\u001b[0m\u001b[0mheap\u001b[0m\u001b[0;34m[\u001b[0m\u001b[0mself\u001b[0m\u001b[0;34m.\u001b[0m\u001b[0mcurrentPosition\u001b[0m \u001b[0;34m-\u001b[0m \u001b[0mi\u001b[0m\u001b[0;34m]\u001b[0m\u001b[0;34m\u001b[0m\u001b[0m\n\u001b[1;32m     32\u001b[0m       \u001b[0mself\u001b[0m\u001b[0;34m.\u001b[0m\u001b[0mheap\u001b[0m\u001b[0;34m[\u001b[0m\u001b[0mself\u001b[0m\u001b[0;34m.\u001b[0m\u001b[0mcurrentPosition\u001b[0m \u001b[0;34m-\u001b[0m \u001b[0mi\u001b[0m\u001b[0;34m]\u001b[0m \u001b[0;34m=\u001b[0m \u001b[0mtemp\u001b[0m\u001b[0;34m\u001b[0m\u001b[0m\n\u001b[0;32m---> 33\u001b[0;31m       \u001b[0mself\u001b[0m\u001b[0;34m.\u001b[0m\u001b[0mfixDown\u001b[0m\u001b[0;34m(\u001b[0m\u001b[0;36m0\u001b[0m\u001b[0;34m,\u001b[0m \u001b[0mself\u001b[0m\u001b[0;34m.\u001b[0m\u001b[0mcurrentPosition\u001b[0m \u001b[0;34m-\u001b[0m \u001b[0mi\u001b[0m \u001b[0;34m-\u001b[0m \u001b[0;36m1\u001b[0m\u001b[0;34m)\u001b[0m\u001b[0;34m\u001b[0m\u001b[0m\n\u001b[0m\u001b[1;32m     34\u001b[0m \u001b[0;34m\u001b[0m\u001b[0m\n\u001b[1;32m     35\u001b[0m   \u001b[0;32mdef\u001b[0m \u001b[0mfixDown\u001b[0m\u001b[0;34m(\u001b[0m\u001b[0mself\u001b[0m\u001b[0;34m,\u001b[0m \u001b[0mindex\u001b[0m\u001b[0;34m,\u001b[0m \u001b[0mupto\u001b[0m\u001b[0;34m)\u001b[0m\u001b[0;34m:\u001b[0m\u001b[0;34m\u001b[0m\u001b[0m\n",
      "\u001b[0;32m<ipython-input-13-f70e9428940e>\u001b[0m in \u001b[0;36mfixDown\u001b[0;34m(self, index, upto)\u001b[0m\n\u001b[1;32m     50\u001b[0m             \u001b[0mchildToSway\u001b[0m \u001b[0;34m=\u001b[0m \u001b[0mrightChild\u001b[0m\u001b[0;34m\u001b[0m\u001b[0m\n\u001b[1;32m     51\u001b[0m \u001b[0;34m\u001b[0m\u001b[0m\n\u001b[0;32m---> 52\u001b[0;31m         \u001b[0;32mif\u001b[0m \u001b[0mself\u001b[0m\u001b[0;34m.\u001b[0m\u001b[0mheap\u001b[0m\u001b[0;34m[\u001b[0m\u001b[0mindex\u001b[0m\u001b[0;34m]\u001b[0m \u001b[0;34m<\u001b[0m \u001b[0mself\u001b[0m\u001b[0;34m.\u001b[0m\u001b[0mheap\u001b[0m\u001b[0;34m[\u001b[0m\u001b[0mchildToSwap\u001b[0m\u001b[0;34m]\u001b[0m\u001b[0;34m:\u001b[0m\u001b[0;34m\u001b[0m\u001b[0m\n\u001b[0m\u001b[1;32m     53\u001b[0m           \u001b[0mtemp\u001b[0m \u001b[0;34m=\u001b[0m \u001b[0mself\u001b[0m\u001b[0;34m.\u001b[0m\u001b[0mheap\u001b[0m\u001b[0;34m[\u001b[0m\u001b[0mindex\u001b[0m\u001b[0;34m]\u001b[0m\u001b[0;34m\u001b[0m\u001b[0m\n\u001b[1;32m     54\u001b[0m           \u001b[0mself\u001b[0m\u001b[0;34m.\u001b[0m\u001b[0mheap\u001b[0m\u001b[0;34m[\u001b[0m\u001b[0mindex\u001b[0m\u001b[0;34m]\u001b[0m \u001b[0;34m=\u001b[0m \u001b[0mself\u001b[0m\u001b[0;34m.\u001b[0m\u001b[0mheap\u001b[0m\u001b[0;34m[\u001b[0m\u001b[0mchildToSway\u001b[0m\u001b[0;34m]\u001b[0m\u001b[0;34m\u001b[0m\u001b[0m\n",
      "\u001b[0;31mTypeError\u001b[0m: list indices must be integers or slices, not NoneType"
     ]
    }
   ],
   "source": [
    "heap = Heap()\n",
    "heap.insert(10)\n",
    "heap.insert(-20)\n",
    "heap.insert(0)\n",
    "heap.insert(2)\n",
    "\n",
    "heap.heapsort()"
   ]
  },
  {
   "cell_type": "code",
   "execution_count": null,
   "metadata": {
    "collapsed": true
   },
   "outputs": [],
   "source": []
  }
 ],
 "metadata": {
  "kernelspec": {
   "display_name": "Python 3",
   "language": "python",
   "name": "python3"
  },
  "language_info": {
   "codemirror_mode": {
    "name": "ipython",
    "version": 3
   },
   "file_extension": ".py",
   "mimetype": "text/x-python",
   "name": "python",
   "nbconvert_exporter": "python",
   "pygments_lexer": "ipython3",
   "version": "3.6.1"
  }
 },
 "nbformat": 4,
 "nbformat_minor": 2
}
