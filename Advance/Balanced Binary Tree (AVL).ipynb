{
 "cells": [
  {
   "cell_type": "markdown",
   "metadata": {},
   "source": [
    "## Motivation\n",
    "- **Linked lists**: quite easy to implement\n",
    "    - Stores lots of pointers\n",
    "    - **O(N)** search operation time complexity\n",
    "    \n",
    "- **BST** : we came to conclusion that **O(N)** search complexity can be reduced to **O(logN)** time complexity\n",
    "    - But if the tree is unbalanced: these operations will become slower and slower\n",
    "\n",
    "- **Balanced binary trees** AVL trees or red-black trees\n",
    "    - They are guaranteed to be balanced\n",
    "    - Why is it good? **O(logN)** is guaranteed!!!"
   ]
  },
  {
   "cell_type": "markdown",
   "metadata": {},
   "source": [
    "- The running time of BST operations depends on the hieght the binary search tree: we should keep the tree balanced in order to get the best performance\n",
    "- That's why AVL trees came to be\n",
    "- 1962: invented by two russian computer scientist\n",
    "- In an AVL tree, the heights of the two child subtrees of any node differ by at most one\n",
    "- Another solution to the problem is a red-black trees\n",
    "- AVL trees are faster than red-black trees because they are more rigidly balanced BUT needs more work\n",
    "- Operating systems relies heavily on these data structures!!!"
   ]
  },
  {
   "cell_type": "markdown",
   "metadata": {},
   "source": [
    "- Most of the operations are the same as we have seen for binary search trees\n",
    "- Every node can have at most 2 children: the leftChild is smaller, the rightChild is greater than the parent node\n",
    "- The insertion operation is the same BUT on every insertion we have to check whether the tree is unbalanced or not\n",
    "- Deletion operation is the same\n",
    "- Maximum / minimum finding operations are the same as well!!!"
   ]
  },
  {
   "cell_type": "markdown",
   "metadata": {},
   "source": [
    "- Binary Search Trees:\n",
    "\n",
    "|   \t|   Average\t|   Worst\t|\n",
    "|---\t|---\t|---\t|\n",
    "|Space   \t|   O(n)\t|  O(n) \t|   \t\n",
    "|Insert  \t|   O(log n)\t|   O(n)\t|   \t\n",
    "|Delete  \t|   O(log n)\t|   O(n)\t|   \t\n",
    "|Search \t|   O(log n)\t|   O(n)\t|   \t\n",
    "\n",
    "\n",
    "- Balanced Trees:\n",
    "\n",
    "|   \t|   Average\t|   Worst\t|\n",
    "|---\t|---\t|---\t|\n",
    "|Space   \t|   O(n)\t|  O(n) \t|   \t\n",
    "|Insert  \t|   O(log n)\t|   O(log n)\t|   \t\n",
    "|Delete  \t|   O(log n)\t|   O(log n)\t|   \t\n",
    "|Search \t|   O(log n)\t|   O(log n)\t|   \t"
   ]
  },
  {
   "cell_type": "markdown",
   "metadata": {},
   "source": [
    "- Height of a node: length of the longest path from it to a leaf\n",
    "- We can use recursion to calculate it:\n",
    "    - height = max[leftChild.height(), rightChild.height()] + 1 !!!\n",
    "- The leaf nodes have NULL children: we consider the height to be -1 for NULLs!!!\n",
    "- AVL algorithm uses heights of nodes, we want the heights as small as possible: we store the height parameters -> if it get high, we fix it.\n",
    "- All subtrees height parameter does not differ more than 1!!!\n",
    "    "
   ]
  },
  {
   "cell_type": "markdown",
   "metadata": {},
   "source": [
    "- AVL tree requires the heights of left and right child of every node to differ at most +1 or -1 !!!\n",
    "- |height(left SubTree) - height(right Subtree) | <= 1\n",
    "- We can maintain this property in **O(logN)** time which is quite fast!!!\n",
    "- Insertion:\n",
    "    1) a simple BST insertion according to the keys\n",
    "    2) fix the AVL peroperty on each insertion from insertion upward\n",
    "- There may be several violations of AVL property from the inserted node up to the root!!!\n",
    "- We have to check them all"
   ]
  },
  {
   "cell_type": "markdown",
   "metadata": {},
   "source": [
    "### Rotation\n",
    "- Case 1:\n",
    "```py\n",
    "def rotateRight(Node node):\n",
    "    Node tempLeftNode = node.getLeftNode()\n",
    "    Node t = tempLeftNode.getRightNode()\n",
    "    \n",
    "    tempLeftNode.setRightNode(node)\n",
    "    node.setLeftNode(t)\n",
    "    node.updateHeight()\n",
    "    tempLeftNode.updateHeight()\n",
    "```\n",
    "\n",
    "- Case 2: Double-right heavey situation\n",
    "```py\n",
    "def rotateLeft(Node node):\n",
    "    Node tempRightNode = node.getRightNode()\n",
    "    Node t = tempRightNode.getLeftNode()\n",
    "    \n",
    "    tempRightNode.setLeftNode(node)\n",
    "    node.setRightNode(t)\n",
    "    node.updateHeight()\n",
    "    tempRightNode.updateHeight()\n",
    "```\n",
    "\n",
    "- Case 3: left-right situation means the root node has a left child and its left child has a right child.\n",
    "\n",
    "    - these nodes may have left and right children but it does not mater (we do not modify the pointers for them!!!)\n",
    "    - Solution: run rotateLeft on its left sub tree and then rotateRight on the root\n",
    "\n",
    "- Case 4: right-left situation means the root node has a right child and its right child has a left child.\n",
    "\n",
    "    - these nodes may have left and right children but it does not mater (we do not modify the pointers for them!!!)\n",
    "    - Solution: run rotateRight on its right sub tree and then rotateLeft"
   ]
  },
  {
   "cell_type": "markdown",
   "metadata": {},
   "source": [
    "### AVL sort\n",
    "- We can use this data structure to sort items\n",
    "- We jus thave to insert the **N** items we want to sort\n",
    "- We have to make an in-order traversal -> it is going to yield the numerical or alphabetical ordering!!!\n",
    "\n",
    "- Insertion: O(n log n)\n",
    "- In-order traversal: O(n)\n",
    "- **Overall complexity: O(n log n)**"
   ]
  },
  {
   "cell_type": "markdown",
   "metadata": {},
   "source": [
    "### Applications\n",
    "- Databases when deletions or insertions are not so frequent, but have to make a lot of look-ups\n",
    "- Look-up tables usually implemented with the help of hashtables BUT AVL trees support more operations in the main\n",
    "- We can sort witht he help of AVL trees !!!\n",
    "- // red-black trees are a bit more popular because for AVL trees we have to make several rotations ~ a bit slower"
   ]
  },
  {
   "cell_type": "code",
   "execution_count": 1,
   "metadata": {
    "collapsed": true
   },
   "outputs": [],
   "source": [
    "class Node(object):\n",
    "  \n",
    "  def __init__(self, data):\n",
    "    self.data = data;\n",
    "    self.height = 0;\n",
    "    self.leftChild = None;\n",
    "    self.rightChild = None;\n",
    "  "
   ]
  },
  {
   "cell_type": "code",
   "execution_count": 4,
   "metadata": {
    "collapsed": true
   },
   "outputs": [],
   "source": [
    "class AVL(object):\n",
    "  \n",
    "  def __init__(self):\n",
    "    self.root = None;\n",
    "    \n",
    "  def calcHeight(self, node):\n",
    "    if not node:\n",
    "      return -1;\n",
    "    return node.height;\n",
    "  \n",
    "  # if it returns value > 1, it means it is a left heavy tree --> right rotation\n",
    "  # if it returns value < -1 --> right heavey tree -> left rotation\n",
    "  def calcBalance(self, node):\n",
    "    if not node:\n",
    "      return 0;\n",
    "    return self.calcHeight(node.leftChild) - self.calcHeight(node.rightChild);\n",
    "  \n",
    "  def rotateRight(self, node):\n",
    "    print(\"Rotating to the right on node \", node.data);\n",
    "    \n",
    "    tempLeftChild = node.leftChild;\n",
    "    t = tempLeftChild.rightChild\n",
    "    \n",
    "    tempLeftChild.rightChild = node\n",
    "    node.leftChild = t\n",
    "    \n",
    "    node.height = max(self.calcHeight(node.leftChild), self.calcHeight(node.rightChild)) + 1 \n",
    "    tempLeftChild.height = max(self.calcHeight(tempLeftChild.leftChild), self.calcHeight(tempLeftChild.rightChild)) + 1\n",
    "    \n",
    "    return tempLeftChild; # new root node\n",
    "  \n",
    "  def rotateLeft(self, node):\n",
    "    print(\"Rotating to the left on node \", node.data)\n",
    "    \n",
    "    tempRightChild = node.rightChild;\n",
    "    t = tempRightchild.leftChild;\n",
    "    \n",
    "    tempRightChild.leftChild = node;\n",
    "    node.rightChild = t;\n",
    "    \n",
    "    node.height = max(self.calcHeight(node.leftChild), self.calcHeight(node.rightChild)) + 1 \n",
    "    tempRightchild.height = max(self.calcHeight(tempRightchild.leftChild), self.calcHeight(tempRightchild.rightChild)) + 1\n",
    "    \n",
    "    return tempRightChild; # new root node"
   ]
  },
  {
   "cell_type": "code",
   "execution_count": null,
   "metadata": {
    "collapsed": true
   },
   "outputs": [],
   "source": []
  }
 ],
 "metadata": {
  "kernelspec": {
   "display_name": "Python 3",
   "language": "python",
   "name": "python3"
  },
  "language_info": {
   "codemirror_mode": {
    "name": "ipython",
    "version": 3
   },
   "file_extension": ".py",
   "mimetype": "text/x-python",
   "name": "python",
   "nbconvert_exporter": "python",
   "pygments_lexer": "ipython3",
   "version": "3.6.1"
  }
 },
 "nbformat": 4,
 "nbformat_minor": 2
}
