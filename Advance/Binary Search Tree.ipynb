{
 "cells": [
  {
   "cell_type": "markdown",
   "metadata": {},
   "source": [
    "### Sorted arrays\n",
    "- Inserting a new item is quite slow // O(N)\n",
    "- Searching is quite fast with binary search // O(logN)\n",
    "- Removing an item is slow // O(N)\n",
    "\n",
    "### Linked Lists\n",
    "- Inserting a new item is very fast // O(1)\n",
    "- Searching is sequental // O(N)\n",
    "- Removing an item is fast because of the references // O(1)\n",
    "\n",
    "-->  Binary Search Trees are going to make all of these operations quite fast, with **O(log N)** time complexity !!! ~ predictable"
   ]
  },
  {
   "cell_type": "code",
   "execution_count": 1,
   "metadata": {
    "collapsed": true
   },
   "outputs": [],
   "source": [
    "class Node(object):\n",
    "  def __init__(self, data):\n",
    "    self.data = data;\n",
    "    self.leftChild = None;\n",
    "    self.rightChild = None;"
   ]
  },
  {
   "cell_type": "code",
   "execution_count": 17,
   "metadata": {},
   "outputs": [],
   "source": [
    "class BinarySearchTree(object):\n",
    "  def __init__(self):\n",
    "    self.root = None;\n",
    "    \n",
    "  def insert(self, data):\n",
    "    if not self.root:\n",
    "      self.root = Node(data);\n",
    "    else:\n",
    "      self.insertNode(data, self.root);\n",
    "  \n",
    "  # O(log N) if the tree is balanced!!!!!!! --> it can reduced to O(N) --> AVL RBT are needed!!!!\n",
    "  def insertNode(self, data, node):\n",
    "    if data < node.data:\n",
    "      if node.leftChild:\n",
    "        self.insertNode(data, node.leftChild)\n",
    "      else :\n",
    "        node.leftChild = Node(data)\n",
    "    else:\n",
    "      if node.rightChild:\n",
    "        self.insertNode(data, node.rightChild);\n",
    "      else:\n",
    "        node.rightChild = Node(data);\n",
    "        \n",
    "  def removeNode(self, data, node):\n",
    "    if not node:\n",
    "      return node;\n",
    "    \n",
    "    if data < node.data:\n",
    "      node.leftChild = self.removeNode(data, node.leftChild);\n",
    "    elif data > node.data:\n",
    "      node.rightChild = self.removeNode(data, node.rightChild);\n",
    "    else:\n",
    "      if not node.leftChild and not node.rightChild:\n",
    "        print(\"Removing a leaf node...\");\n",
    "        del node;\n",
    "        return None;\n",
    "      \n",
    "      if not node.leftChild:\n",
    "        print(\"Removing a node with single right child...\");\n",
    "        tempNode = node.rightChild;\n",
    "        del node;\n",
    "        return tempNode;\n",
    "      elif not node.rightChild:\n",
    "        print(\"Removing a node with single left child...\");\n",
    "        tempNode = node.leftChild;\n",
    "        del node;\n",
    "        return tempNode;\n",
    "      \n",
    "      print(\"Removing node with two children...\");\n",
    "      tempNode = self.getPredecessor(node.leftChild);\n",
    "      node.data = tempNode.data;\n",
    "      node.leftChild = self.removeNode(tempNode.data, node.leftChild);\n",
    "    \n",
    "    return node;\n",
    "      \n",
    "  def getPredecessor(self, node):\n",
    "    if node.rightChild:\n",
    "      return self.getPredecessor(node.rightChild);\n",
    "    return node;\n",
    "      \n",
    "  def remove(self, data):\n",
    "    if self.root:\n",
    "      self.root = self.removeNode(data, self.root);\n",
    "  \n",
    "  def getMinValue(self):\n",
    "    if self.root:\n",
    "      return self.getMin(self.root);\n",
    "  def getMin(self, node):\n",
    "    if node.leftChild:\n",
    "      return self.getMin(node.leftChild);\n",
    "    return node.data\n",
    "  \n",
    "  def getMaxValue(self):\n",
    "    if self.root:\n",
    "      return self.getMax(self.root);\n",
    "  def getMax(self, node):\n",
    "    if node.rightChild:\n",
    "      return self.getMax(node.rightChild);\n",
    "    return node.data\n",
    "  \n",
    "  def traverse(self):\n",
    "    if self.root:\n",
    "      self.traverseInOrder(self.root);\n",
    "  def traverseInOrder(self, node):\n",
    "    \n",
    "    if node.leftChild:\n",
    "      self.traverseInOrder(node.leftChild);\n",
    "    \n",
    "    print(\"%s \" % node.data);\n",
    "    \n",
    "    if node.rightChild:\n",
    "      self.traverseInOrder(node.rightChild);"
   ]
  },
  {
   "cell_type": "code",
   "execution_count": 29,
   "metadata": {},
   "outputs": [
    {
     "name": "stdout",
     "output_type": "stream",
     "text": [
      "5\n",
      "14\n"
     ]
    }
   ],
   "source": [
    "bst = BinarySearchTree();\n",
    "bst.insert(10);\n",
    "bst.insert(5);\n",
    "bst.insert(13);\n",
    "bst.insert(14);\n",
    "bst.insert(6);\n",
    "\n",
    "print(bst.getMinValue());\n",
    "print(bst.getMaxValue());"
   ]
  },
  {
   "cell_type": "code",
   "execution_count": 30,
   "metadata": {},
   "outputs": [
    {
     "name": "stdout",
     "output_type": "stream",
     "text": [
      "5 \n",
      "6 \n",
      "10 \n",
      "13 \n",
      "14 \n"
     ]
    }
   ],
   "source": [
    "bst.traverse();"
   ]
  },
  {
   "cell_type": "code",
   "execution_count": 31,
   "metadata": {},
   "outputs": [
    {
     "name": "stdout",
     "output_type": "stream",
     "text": [
      "Removing a node with single right child...\n",
      "6 \n",
      "10 \n",
      "13 \n",
      "14 \n"
     ]
    }
   ],
   "source": [
    "bst.remove(5)\n",
    "bst.traverse();"
   ]
  },
  {
   "cell_type": "code",
   "execution_count": 32,
   "metadata": {},
   "outputs": [
    {
     "name": "stdout",
     "output_type": "stream",
     "text": [
      "Removing node with two children...\n",
      "Removing a leaf node...\n",
      "6 \n",
      "13 \n",
      "14 \n"
     ]
    }
   ],
   "source": [
    "bst.remove(10)\n",
    "bst.traverse()"
   ]
  },
  {
   "cell_type": "code",
   "execution_count": null,
   "metadata": {
    "collapsed": true
   },
   "outputs": [],
   "source": []
  }
 ],
 "metadata": {
  "kernelspec": {
   "display_name": "Python 3",
   "language": "python",
   "name": "python3"
  },
  "language_info": {
   "codemirror_mode": {
    "name": "ipython",
    "version": 3
   },
   "file_extension": ".py",
   "mimetype": "text/x-python",
   "name": "python",
   "nbconvert_exporter": "python",
   "pygments_lexer": "ipython3",
   "version": "3.6.1"
  }
 },
 "nbformat": 4,
 "nbformat_minor": 2
}
