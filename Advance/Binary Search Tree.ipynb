{
 "cells": [
  {
   "cell_type": "markdown",
   "metadata": {},
   "source": [
    "### Sorted arrays\n",
    "- Inserting a new item is quite slow // O(N)\n",
    "- Searching is quite fast with binary search // O(logN)\n",
    "- Removing an item is slow // O(N)\n",
    "\n",
    "### Linked Lists\n",
    "- Inserting a new item is very fast // O(1)\n",
    "- Searching is sequental // O(N)\n",
    "- Removing an item is fast because of the references // O(1)\n",
    "\n",
    "-->  Binary Search Trees are going to make all of these operations quite fast, with **O(log N)** time complexity !!! ~ predictable"
   ]
  },
  {
   "cell_type": "code",
   "execution_count": 1,
   "metadata": {
    "collapsed": true
   },
   "outputs": [],
   "source": [
    "class Node(object):\n",
    "  def __init__(self, data):\n",
    "    self.data = data;\n",
    "    self.leftChild = None;\n",
    "    self.rightChild = None;"
   ]
  },
  {
   "cell_type": "code",
   "execution_count": 3,
   "metadata": {
    "collapsed": true
   },
   "outputs": [],
   "source": [
    "class BinarySearchTree(object):\n",
    "  def __init__(self):\n",
    "    self.root = None;\n",
    "    \n",
    "  def insert(self, data):\n",
    "    if not self.root:\n",
    "      self.root = Node(data);\n",
    "    else:\n",
    "      self.insertNode(data, self.root);\n",
    "  \n",
    "  def insertNode(self, data, node):\n",
    "    if data < node.data:\n",
    "      if node.leftChild:\n",
    "        self.insertNode(data, node.leftChild)\n",
    "      else :\n",
    "        node.leftChild = Node(data)\n",
    "    else:\n",
    "      if node.rightChild:\n",
    "        self.insertNode(data, node.rightChild);\n",
    "      else:\n",
    "        node.rightChild = node(data);\n",
    "  \n",
    "  def getMinValue(self):\n",
    "    if self.root:\n",
    "      return self.getMin(self.root);\n",
    "  def getMin(self, node):\n",
    "    if node.leftChild:\n",
    "      return self.getMin(node.leftChild);\n",
    "    return node.data\n",
    "  \n",
    "  def getMaxValue(self):\n",
    "    if self.root:\n",
    "      return self.getMax(self.root);\n",
    "  def getMax(self, node):\n",
    "    if node.rightChild:\n",
    "      return self.getMax(node.rightChild);\n",
    "    return node.data"
   ]
  },
  {
   "cell_type": "code",
   "execution_count": null,
   "metadata": {
    "collapsed": true
   },
   "outputs": [],
   "source": []
  }
 ],
 "metadata": {
  "kernelspec": {
   "display_name": "Python 3",
   "language": "python",
   "name": "python3"
  },
  "language_info": {
   "codemirror_mode": {
    "name": "ipython",
    "version": 3
   },
   "file_extension": ".py",
   "mimetype": "text/x-python",
   "name": "python",
   "nbconvert_exporter": "python",
   "pygments_lexer": "ipython3",
   "version": "3.6.1"
  }
 },
 "nbformat": 4,
 "nbformat_minor": 2
}
